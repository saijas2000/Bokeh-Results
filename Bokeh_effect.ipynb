{
  "nbformat": 4,
  "nbformat_minor": 0,
  "metadata": {
    "colab": {
      "name": "Bokeh-effect.ipynb",
      "provenance": [],
      "collapsed_sections": [],
      "authorship_tag": "ABX9TyPkIfMNaGeKI9HNIy52RYOs",
      "include_colab_link": true
    },
    "kernelspec": {
      "name": "python3",
      "display_name": "Python 3"
    },
    "language_info": {
      "name": "python"
    },
    "accelerator": "GPU",
    "gpuClass": "standard"
  },
  "cells": [
    {
      "cell_type": "markdown",
      "metadata": {
        "id": "view-in-github",
        "colab_type": "text"
      },
      "source": [
        "<a href=\"https://colab.research.google.com/github/saijas2000/Bokeh-Results/blob/main/Bokeh_effect.ipynb\" target=\"_parent\"><img src=\"https://colab.research.google.com/assets/colab-badge.svg\" alt=\"Open In Colab\"/></a>"
      ]
    },
    {
      "cell_type": "code",
      "execution_count": null,
      "metadata": {
        "id": "4mvGjCsT6zkx",
        "colab": {
          "base_uri": "https://localhost:8080/"
        },
        "outputId": "9da9b332-f9fa-4571-b7c9-f9b9cbc00981"
      },
      "outputs": [
        {
          "output_type": "stream",
          "name": "stdout",
          "text": [
            "Cloning into 'Bokeh-Rendering-with-Vision-Transformers'...\n",
            "remote: Enumerating objects: 119, done.\u001b[K\n",
            "remote: Counting objects: 100% (9/9), done.\u001b[K\n",
            "remote: Compressing objects: 100% (9/9), done.\u001b[K\n",
            "remote: Total 119 (delta 4), reused 0 (delta 0), pack-reused 110\u001b[K\n",
            "Receiving objects: 100% (119/119), 2.08 MiB | 11.71 MiB/s, done.\n",
            "Resolving deltas: 100% (24/24), done.\n"
          ]
        }
      ],
      "source": [
        "#!git clone https://github.com/Soester10/Bokeh-Rendering-with-Vision-Transformers"
      ]
    },
    {
      "cell_type": "code",
      "source": [
        "%cd Bokeh-Rendering-with-Vision-Transformers/"
      ],
      "metadata": {
        "colab": {
          "base_uri": "https://localhost:8080/"
        },
        "id": "RieQ2MCz7VSb",
        "outputId": "19d5c9b7-e4a0-432d-bf6f-df40e52a76f3"
      },
      "execution_count": null,
      "outputs": [
        {
          "output_type": "stream",
          "name": "stdout",
          "text": [
            "/content/Bokeh-Rendering-with-Vision-Transformers\n"
          ]
        }
      ]
    },
    {
      "cell_type": "code",
      "source": [
        "#!git clone https://github.com/isl-org/DPT"
      ],
      "metadata": {
        "id": "f1tJ8EoC8CmF"
      },
      "execution_count": null,
      "outputs": []
    },
    {
      "cell_type": "code",
      "source": [
        "from google.colab import drive\n",
        "drive.mount('/gdrive')"
      ],
      "metadata": {
        "colab": {
          "base_uri": "https://localhost:8080/"
        },
        "id": "Bmijt9P831zN",
        "outputId": "14dd52c3-c677-4334-ea61-16b81aad67ef"
      },
      "execution_count": null,
      "outputs": [
        {
          "output_type": "stream",
          "name": "stdout",
          "text": [
            "Mounted at /gdrive\n"
          ]
        }
      ]
    },
    {
      "cell_type": "code",
      "source": [
        "#!cp -av \"/gdrive/My Drive/c++\" \"/content/Bokeh-Rendering-with-Vision-Transformers\""
      ],
      "metadata": {
        "colab": {
          "base_uri": "https://localhost:8080/"
        },
        "id": "u2Ji1vUMKU2l",
        "outputId": "b65112e5-ee6f-408b-9a8a-97fca50f88cd"
      },
      "execution_count": null,
      "outputs": [
        {
          "output_type": "stream",
          "name": "stdout",
          "text": [
            "'/gdrive/My Drive/c++' -> '/content/Bokeh-Rendering-with-Vision-Transformers/c++'\n",
            "'/gdrive/My Drive/c++/Resume-Jaswanth.pdf' -> '/content/Bokeh-Rendering-with-Vision-Transformers/c++/Resume-Jaswanth.pdf'\n",
            "'/gdrive/My Drive/c++/MY_DOCS' -> '/content/Bokeh-Rendering-with-Vision-Transformers/c++/MY_DOCS'\n",
            "'/gdrive/My Drive/c++/MY_DOCS/CHEVURU_SAI_JASWANTH_AADHAR_CARD.pdf' -> '/content/Bokeh-Rendering-with-Vision-Transformers/c++/MY_DOCS/CHEVURU_SAI_JASWANTH_AADHAR_CARD.pdf'\n",
            "'/gdrive/My Drive/c++/MY_DOCS/CHEVURU_SAI_JASWANTH_10TH_CLASS.pdf.pdf' -> '/content/Bokeh-Rendering-with-Vision-Transformers/c++/MY_DOCS/CHEVURU_SAI_JASWANTH_10TH_CLASS.pdf.pdf'\n",
            "'/gdrive/My Drive/c++/hello.pt' -> '/content/Bokeh-Rendering-with-Vision-Transformers/c++/hello.pt'\n",
            "'/gdrive/My Drive/c++/TestBokehFree.zip' -> '/content/Bokeh-Rendering-with-Vision-Transformers/c++/TestBokehFree.zip'\n"
          ]
        }
      ]
    },
    {
      "cell_type": "code",
      "source": [
        "#!pip install transformers\n",
        "#from DPT.dpt.models import DPT\n",
        "#from DPT.dpt.base_model import BaseModel"
      ],
      "metadata": {
        "id": "GKWgAfN-7fhX"
      },
      "execution_count": null,
      "outputs": []
    },
    {
      "cell_type": "code",
      "source": [
        "!pip install timm"
      ],
      "metadata": {
        "colab": {
          "base_uri": "https://localhost:8080/"
        },
        "id": "XdW_793a7yY1",
        "outputId": "115ddcf3-b3b3-48b8-93d5-467c04a8dbdd"
      },
      "execution_count": null,
      "outputs": [
        {
          "output_type": "stream",
          "name": "stdout",
          "text": [
            "Looking in indexes: https://pypi.org/simple, https://us-python.pkg.dev/colab-wheels/public/simple/\n",
            "Collecting timm\n",
            "  Downloading timm-0.6.5-py3-none-any.whl (512 kB)\n",
            "\u001b[K     |████████████████████████████████| 512 kB 4.9 MB/s \n",
            "\u001b[?25hRequirement already satisfied: torch>=1.4 in /usr/local/lib/python3.7/dist-packages (from timm) (1.12.0+cu113)\n",
            "Requirement already satisfied: torchvision in /usr/local/lib/python3.7/dist-packages (from timm) (0.13.0+cu113)\n",
            "Requirement already satisfied: typing-extensions in /usr/local/lib/python3.7/dist-packages (from torch>=1.4->timm) (4.1.1)\n",
            "Requirement already satisfied: requests in /usr/local/lib/python3.7/dist-packages (from torchvision->timm) (2.23.0)\n",
            "Requirement already satisfied: pillow!=8.3.*,>=5.3.0 in /usr/local/lib/python3.7/dist-packages (from torchvision->timm) (7.1.2)\n",
            "Requirement already satisfied: numpy in /usr/local/lib/python3.7/dist-packages (from torchvision->timm) (1.21.6)\n",
            "Requirement already satisfied: idna<3,>=2.5 in /usr/local/lib/python3.7/dist-packages (from requests->torchvision->timm) (2.10)\n",
            "Requirement already satisfied: certifi>=2017.4.17 in /usr/local/lib/python3.7/dist-packages (from requests->torchvision->timm) (2022.6.15)\n",
            "Requirement already satisfied: urllib3!=1.25.0,!=1.25.1,<1.26,>=1.21.1 in /usr/local/lib/python3.7/dist-packages (from requests->torchvision->timm) (1.24.3)\n",
            "Requirement already satisfied: chardet<4,>=3.0.2 in /usr/local/lib/python3.7/dist-packages (from requests->torchvision->timm) (3.0.4)\n",
            "Installing collected packages: timm\n",
            "Successfully installed timm-0.6.5\n"
          ]
        }
      ]
    },
    {
      "cell_type": "code",
      "source": [
        "# Zipping a file\n",
        "#import zipfile\n",
        "#with zipfile.ZipFile(\"/content/Bokeh-Rendering-with-Vision-Transformers/c++/TestBokehFree.zip\", 'r') as zip_ref:\n",
        "    #zip_ref.extractall(\"/content/Bokeh-Rendering-with-Vision-Transformers\")"
      ],
      "metadata": {
        "id": "Ju28ZTYj9Rsd"
      },
      "execution_count": null,
      "outputs": []
    },
    {
      "cell_type": "code",
      "source": [
        "import torch\n",
        "import torch.nn as nn\n",
        "import torch.nn.functional as F\n",
        "\n",
        "import timm\n",
        "import types\n",
        "import math\n",
        "import numpy as np\n",
        "from PIL import Image\n",
        "import PIL.Image as pil\n",
        "from torchvision import transforms, datasets\n",
        "from torch.utils.data import Dataset, DataLoader\n",
        "import torch.utils.data as data\n",
        "import PerceptualSimilarity.lpips.lpips as lpips\n",
        "import glob\n",
        "import gc\n",
        "import pytorch_msssim.pytorch_msssim as pytorch_msssim\n",
        "from  torch.cuda.amp import autocast\n",
        "from model import BRViT\n",
        "import matplotlib.pyplot as plt\n",
        "from pytorch_ssim.pytorch_ssim import ssim\n",
        "from torchvision.utils import save_image\n",
        "\n",
        "import pandas as pd\n",
        "from tqdm import tqdm\n",
        "import sys\n",
        "import cv2\n",
        "import time\n",
        "import scipy.misc\n",
        "\n",
        "\n",
        "\n",
        "\n",
        "from skimage.metrics import peak_signal_noise_ratio as compare_psnr\n",
        "from skimage.metrics import structural_similarity as compare_ssim\n",
        "\n",
        "\n",
        "feed_width = 1536\n",
        "feed_height = 1024\n",
        "\n",
        "import matplotlib.pyplot as plt\n",
        "\n",
        "#to store results\n",
        "def store_results():\n",
        "    device = torch.device(\"cuda\")\n",
        "    \n",
        "    model = BRViT().to(device)\n",
        "\n",
        "    PATH = \"/content/Bokeh-Rendering-with-Vision-Transformers/c++/hello.pt\"\n",
        "    model.load_state_dict(torch.load(PATH), strict=True)\n",
        "    \n",
        "    with torch.no_grad():\n",
        "        for i in range(0,200):\n",
        "            \n",
        "            \n",
        "            Path = \"/content/Bokeh-Rendering-with-Vision-Transformers/\"+str(i)+\".png\"\n",
        "            input_image = pil.open(Path).convert('RGB')\n",
        "            original_width, original_height = input_image.size\n",
        "\n",
        "            \n",
        "\n",
        "            org_image = input_image\n",
        "            org_image = transforms.ToTensor()(org_image).unsqueeze(0)\n",
        "\n",
        "            input_image = input_image.resize((feed_width, feed_height), pil.LANCZOS)\n",
        "            input_image = transforms.ToTensor()(input_image).unsqueeze(0)\n",
        "\n",
        "            # prediction\n",
        "            org_image = org_image.to(device)\n",
        "            input_image = input_image.to(device)\n",
        "\n",
        "            bok_pred = model(input_image)\n",
        "\n",
        "            bok_pred = F.interpolate(bok_pred,(original_height,original_width),mode = 'bilinear')\n",
        "\n",
        "            output_path = \"/content/Bokeh-Rendering-with-Vision-Transformers/Output_Images/\"+str(i)+\".png\"\n",
        "            \n",
        "            \n",
        "            save_image(bok_pred,output_path)\n",
        "\n",
        "\n",
        "\n",
        "if __name__ == \"__main__\":\n",
        "    store_results()\n",
        "\n",
        "\n"
      ],
      "metadata": {
        "id": "MQPZ7CrU7dF1"
      },
      "execution_count": null,
      "outputs": []
    },
    {
      "cell_type": "code",
      "source": [
        ""
      ],
      "metadata": {
        "id": "NRA7aaA0-8Tu"
      },
      "execution_count": null,
      "outputs": []
    },
    {
      "cell_type": "code",
      "source": [
        "import shutil\n",
        "shutil.make_archive('/content/Bokeh-Rendering-with-Vision-Transformers/Bokeh-output-images','zip','/content/Bokeh-Rendering-with-Vision-Transformers/Output_Images')"
      ],
      "metadata": {
        "colab": {
          "base_uri": "https://localhost:8080/",
          "height": 35
        },
        "id": "xBD7_VNMBrSk",
        "outputId": "bdf54f34-f303-4171-cefd-de3526a894db"
      },
      "execution_count": null,
      "outputs": [
        {
          "output_type": "execute_result",
          "data": {
            "text/plain": [
              "'/content/Bokeh-Rendering-with-Vision-Transformers/Bokeh-output-images.zip'"
            ],
            "application/vnd.google.colaboratory.intrinsic+json": {
              "type": "string"
            }
          },
          "metadata": {},
          "execution_count": 19
        }
      ]
    },
    {
      "cell_type": "code",
      "source": [
        "!pip install inspect"
      ],
      "metadata": {
        "id": "7EcX-gkxBszn"
      },
      "execution_count": null,
      "outputs": []
    },
    {
      "cell_type": "code",
      "source": [
        "from DPT.dpt.models import DPT\n",
        "\n",
        "import inspect\n",
        "src = inspect.getsource(DPT)\n",
        "print(src)"
      ],
      "metadata": {
        "id": "6UJrKrGX47dN"
      },
      "execution_count": null,
      "outputs": []
    },
    {
      "cell_type": "markdown",
      "source": [
        " ,,,,,,,,,,,,,"
      ],
      "metadata": {
        "id": "USb1wmJZ-P1V"
      }
    }
  ]
}